{
 "cells": [
  {
   "cell_type": "markdown",
   "id": "8e7c4a66",
   "metadata": {},
   "source": [
    "3.)\tWhat are your recommendations for total number of scooters for the city overall and density of scooters by zip code?"
   ]
  },
  {
   "cell_type": "markdown",
   "id": "385d2ca2",
   "metadata": {},
   "source": [
    "Tasked with creating and joining geospatial data for group project to be used with Tableau for analysis."
   ]
  },
  {
   "cell_type": "code",
   "execution_count": 1,
   "id": "9dc93d78",
   "metadata": {},
   "outputs": [],
   "source": [
    "from shapely.geometry import Point\n",
    "import pandas as pd\n",
    "import geopandas as gpd\n",
    "import matplotlib.pyplot as plt\n",
    "import folium\n",
    "from folium.plugins import MarkerCluster\n",
    "from folium.plugins import FastMarkerCluster"
   ]
  },
  {
   "cell_type": "code",
   "execution_count": 2,
   "id": "36779775",
   "metadata": {},
   "outputs": [
    {
     "name": "stdout",
     "output_type": "stream",
     "text": [
      "epsg:4326\n"
     ]
    },
    {
     "data": {
      "text/html": [
       "<div>\n",
       "<style scoped>\n",
       "    .dataframe tbody tr th:only-of-type {\n",
       "        vertical-align: middle;\n",
       "    }\n",
       "\n",
       "    .dataframe tbody tr th {\n",
       "        vertical-align: top;\n",
       "    }\n",
       "\n",
       "    .dataframe thead th {\n",
       "        text-align: right;\n",
       "    }\n",
       "</style>\n",
       "<table border=\"1\" class=\"dataframe\">\n",
       "  <thead>\n",
       "    <tr style=\"text-align: right;\">\n",
       "      <th></th>\n",
       "      <th>zip</th>\n",
       "      <th>objectid</th>\n",
       "      <th>po_name</th>\n",
       "      <th>shape_stlength</th>\n",
       "      <th>shape_starea</th>\n",
       "      <th>geometry</th>\n",
       "    </tr>\n",
       "  </thead>\n",
       "  <tbody>\n",
       "    <tr>\n",
       "      <th>0</th>\n",
       "      <td>37115</td>\n",
       "      <td>1</td>\n",
       "      <td>MADISON</td>\n",
       "      <td>178783.02488886821</td>\n",
       "      <td>596553400.57885742</td>\n",
       "      <td>MULTIPOLYGON (((-86.68725 36.31821, -86.68722 ...</td>\n",
       "    </tr>\n",
       "    <tr>\n",
       "      <th>1</th>\n",
       "      <td>37216</td>\n",
       "      <td>3</td>\n",
       "      <td>NASHVILLE</td>\n",
       "      <td>75820.997821400058</td>\n",
       "      <td>188884682.28344727</td>\n",
       "      <td>MULTIPOLYGON (((-86.73451 36.23774, -86.73425 ...</td>\n",
       "    </tr>\n",
       "    <tr>\n",
       "      <th>2</th>\n",
       "      <td>37204</td>\n",
       "      <td>9</td>\n",
       "      <td>NASHVILLE</td>\n",
       "      <td>93180.292250425613</td>\n",
       "      <td>200664795.51708984</td>\n",
       "      <td>MULTIPOLYGON (((-86.77914 36.13424, -86.77923 ...</td>\n",
       "    </tr>\n",
       "    <tr>\n",
       "      <th>3</th>\n",
       "      <td>37027</td>\n",
       "      <td>11</td>\n",
       "      <td>BRENTWOOD</td>\n",
       "      <td>159760.6942933173</td>\n",
       "      <td>174978422.04101562</td>\n",
       "      <td>MULTIPOLYGON (((-86.81258 36.06319, -86.81263 ...</td>\n",
       "    </tr>\n",
       "    <tr>\n",
       "      <th>4</th>\n",
       "      <td>37064</td>\n",
       "      <td>18</td>\n",
       "      <td>FRANKLIN</td>\n",
       "      <td>28995.828320601937</td>\n",
       "      <td>46969608.005737305</td>\n",
       "      <td>MULTIPOLYGON (((-87.02197 36.01200, -87.02140 ...</td>\n",
       "    </tr>\n",
       "  </tbody>\n",
       "</table>\n",
       "</div>"
      ],
      "text/plain": [
       "     zip objectid    po_name      shape_stlength        shape_starea  \\\n",
       "0  37115        1    MADISON  178783.02488886821  596553400.57885742   \n",
       "1  37216        3  NASHVILLE  75820.997821400058  188884682.28344727   \n",
       "2  37204        9  NASHVILLE  93180.292250425613  200664795.51708984   \n",
       "3  37027       11  BRENTWOOD   159760.6942933173  174978422.04101562   \n",
       "4  37064       18   FRANKLIN  28995.828320601937  46969608.005737305   \n",
       "\n",
       "                                            geometry  \n",
       "0  MULTIPOLYGON (((-86.68725 36.31821, -86.68722 ...  \n",
       "1  MULTIPOLYGON (((-86.73451 36.23774, -86.73425 ...  \n",
       "2  MULTIPOLYGON (((-86.77914 36.13424, -86.77923 ...  \n",
       "3  MULTIPOLYGON (((-86.81258 36.06319, -86.81263 ...  \n",
       "4  MULTIPOLYGON (((-87.02197 36.01200, -87.02140 ...  "
      ]
     },
     "execution_count": 2,
     "metadata": {},
     "output_type": "execute_result"
    }
   ],
   "source": [
    "zipcodes = gpd.read_file('../data/zipcodes.geojson') ### Reading in geojson for multipolygon options.\n",
    "print(zipcodes.crs)\n",
    "zipcodes.head( )"
   ]
  },
  {
   "cell_type": "code",
   "execution_count": 3,
   "id": "b7e54b44",
   "metadata": {
    "scrolled": false
   },
   "outputs": [
    {
     "name": "stdout",
     "output_type": "stream",
     "text": [
      "(10018, 4)\n"
     ]
    },
    {
     "data": {
      "text/html": [
       "<div>\n",
       "<style scoped>\n",
       "    .dataframe tbody tr th:only-of-type {\n",
       "        vertical-align: middle;\n",
       "    }\n",
       "\n",
       "    .dataframe tbody tr th {\n",
       "        vertical-align: top;\n",
       "    }\n",
       "\n",
       "    .dataframe thead th {\n",
       "        text-align: right;\n",
       "    }\n",
       "</style>\n",
       "<table border=\"1\" class=\"dataframe\">\n",
       "  <thead>\n",
       "    <tr style=\"text-align: right;\">\n",
       "      <th></th>\n",
       "      <th>sumdid</th>\n",
       "      <th>company</th>\n",
       "      <th>lat</th>\n",
       "      <th>lon</th>\n",
       "    </tr>\n",
       "  </thead>\n",
       "  <tbody>\n",
       "    <tr>\n",
       "      <th>0</th>\n",
       "      <td>Powered-017d3133-f14a-2b83-ee4f-d777e7c5b619</td>\n",
       "      <td>Bolt</td>\n",
       "      <td>36.121115</td>\n",
       "      <td>-86.814587</td>\n",
       "    </tr>\n",
       "    <tr>\n",
       "      <th>1</th>\n",
       "      <td>Powered-01a24436-0315-e1bb-7ce0-d081d05dff7d</td>\n",
       "      <td>Bolt</td>\n",
       "      <td>36.140538</td>\n",
       "      <td>-86.814606</td>\n",
       "    </tr>\n",
       "    <tr>\n",
       "      <th>2</th>\n",
       "      <td>Powered-03be23ca-d43b-222f-be54-e44b5b4690df</td>\n",
       "      <td>Bolt</td>\n",
       "      <td>36.136750</td>\n",
       "      <td>-86.813831</td>\n",
       "    </tr>\n",
       "  </tbody>\n",
       "</table>\n",
       "</div>"
      ],
      "text/plain": [
       "                                         sumdid company        lat        lon\n",
       "0  Powered-017d3133-f14a-2b83-ee4f-d777e7c5b619    Bolt  36.121115 -86.814587\n",
       "1  Powered-01a24436-0315-e1bb-7ce0-d081d05dff7d    Bolt  36.140538 -86.814606\n",
       "2  Powered-03be23ca-d43b-222f-be54-e44b5b4690df    Bolt  36.136750 -86.813831"
      ]
     },
     "execution_count": 3,
     "metadata": {},
     "output_type": "execute_result"
    }
   ],
   "source": [
    "distinct_scooters_geo = pd.read_csv('../data/distinct_scooters_geo.csv') ### bringing in project data to merge.\n",
    "print(distinct_scooters_geo.shape)\n",
    "distinct_scooters_geo.head(3)"
   ]
  },
  {
   "cell_type": "code",
   "execution_count": 5,
   "id": "bcc16169",
   "metadata": {},
   "outputs": [
    {
     "name": "stderr",
     "output_type": "stream",
     "text": [
      "C:\\Users\\patri\\Documents\\AnacondaNav\\envs\\geospatial_ds6\\lib\\site-packages\\pandas\\core\\dtypes\\cast.py:130: ShapelyDeprecationWarning: The array interface is deprecated and will no longer work in Shapely 2.0. Convert the '.coords' to a numpy array instead.\n",
      "  arr = construct_1d_object_array_from_listlike(values)\n"
     ]
    },
    {
     "data": {
      "text/html": [
       "<div>\n",
       "<style scoped>\n",
       "    .dataframe tbody tr th:only-of-type {\n",
       "        vertical-align: middle;\n",
       "    }\n",
       "\n",
       "    .dataframe tbody tr th {\n",
       "        vertical-align: top;\n",
       "    }\n",
       "\n",
       "    .dataframe thead th {\n",
       "        text-align: right;\n",
       "    }\n",
       "</style>\n",
       "<table border=\"1\" class=\"dataframe\">\n",
       "  <thead>\n",
       "    <tr style=\"text-align: right;\">\n",
       "      <th></th>\n",
       "      <th>sumdid</th>\n",
       "      <th>company</th>\n",
       "      <th>lat</th>\n",
       "      <th>lon</th>\n",
       "      <th>geometry</th>\n",
       "    </tr>\n",
       "  </thead>\n",
       "  <tbody>\n",
       "    <tr>\n",
       "      <th>0</th>\n",
       "      <td>Powered-017d3133-f14a-2b83-ee4f-d777e7c5b619</td>\n",
       "      <td>Bolt</td>\n",
       "      <td>36.121115</td>\n",
       "      <td>-86.814587</td>\n",
       "      <td>POINT (-86.814587 36.121115)</td>\n",
       "    </tr>\n",
       "    <tr>\n",
       "      <th>1</th>\n",
       "      <td>Powered-01a24436-0315-e1bb-7ce0-d081d05dff7d</td>\n",
       "      <td>Bolt</td>\n",
       "      <td>36.140538</td>\n",
       "      <td>-86.814606</td>\n",
       "      <td>POINT (-86.814606 36.140538)</td>\n",
       "    </tr>\n",
       "    <tr>\n",
       "      <th>2</th>\n",
       "      <td>Powered-03be23ca-d43b-222f-be54-e44b5b4690df</td>\n",
       "      <td>Bolt</td>\n",
       "      <td>36.136750</td>\n",
       "      <td>-86.813831</td>\n",
       "      <td>POINT (-86.813831 36.13675)</td>\n",
       "    </tr>\n",
       "  </tbody>\n",
       "</table>\n",
       "</div>"
      ],
      "text/plain": [
       "                                         sumdid company        lat        lon  \\\n",
       "0  Powered-017d3133-f14a-2b83-ee4f-d777e7c5b619    Bolt  36.121115 -86.814587   \n",
       "1  Powered-01a24436-0315-e1bb-7ce0-d081d05dff7d    Bolt  36.140538 -86.814606   \n",
       "2  Powered-03be23ca-d43b-222f-be54-e44b5b4690df    Bolt  36.136750 -86.813831   \n",
       "\n",
       "                       geometry  \n",
       "0  POINT (-86.814587 36.121115)  \n",
       "1  POINT (-86.814606 36.140538)  \n",
       "2   POINT (-86.813831 36.13675)  "
      ]
     },
     "execution_count": 5,
     "metadata": {},
     "output_type": "execute_result"
    }
   ],
   "source": [
    "distinct_scooters_geo['geometry'] = distinct_scooters_geo.apply(lambda x: Point((float(x.lon),\n",
    "                                                         float(x.lat))), ### adding geometry column to convert to geodf.\n",
    "                                        axis=1)\n",
    "distinct_scooters_geo.head(3)"
   ]
  },
  {
   "cell_type": "code",
   "execution_count": 6,
   "id": "31b0a6e8",
   "metadata": {},
   "outputs": [],
   "source": [
    "distinct_scooters_geo = gpd.GeoDataFrame(distinct_scooters_geo,  ### converting to geodataframe for geospatial join.\n",
    "                           crs = zipcodes.crs, \n",
    "                           geometry = distinct_scooters_geo['geometry'])"
   ]
  },
  {
   "cell_type": "code",
   "execution_count": 7,
   "id": "6690e1f7",
   "metadata": {},
   "outputs": [
    {
     "name": "stderr",
     "output_type": "stream",
     "text": [
      "C:\\Users\\patri\\Documents\\AnacondaNav\\envs\\geospatial_ds6\\lib\\site-packages\\IPython\\core\\interactiveshell.py:3448: FutureWarning: The `op` parameter is deprecated and will be removed in a future release. Please use the `predicate` parameter instead.\n",
      "  if await self.run_code(code, result, async_=asy):\n"
     ]
    }
   ],
   "source": [
    "scooters_by_zip = gpd.sjoin(distinct_scooters_geo, zipcodes, op = 'within') ### geospatial join is ready"
   ]
  },
  {
   "cell_type": "code",
   "execution_count": 10,
   "id": "435a90f4",
   "metadata": {
    "scrolled": true
   },
   "outputs": [
    {
     "data": {
      "text/html": [
       "<div>\n",
       "<style scoped>\n",
       "    .dataframe tbody tr th:only-of-type {\n",
       "        vertical-align: middle;\n",
       "    }\n",
       "\n",
       "    .dataframe tbody tr th {\n",
       "        vertical-align: top;\n",
       "    }\n",
       "\n",
       "    .dataframe thead th {\n",
       "        text-align: right;\n",
       "    }\n",
       "</style>\n",
       "<table border=\"1\" class=\"dataframe\">\n",
       "  <thead>\n",
       "    <tr style=\"text-align: right;\">\n",
       "      <th></th>\n",
       "      <th>sumdid</th>\n",
       "      <th>company</th>\n",
       "      <th>lat</th>\n",
       "      <th>lon</th>\n",
       "      <th>geometry</th>\n",
       "      <th>index_right</th>\n",
       "      <th>zip</th>\n",
       "      <th>objectid</th>\n",
       "      <th>po_name</th>\n",
       "      <th>shape_stlength</th>\n",
       "      <th>shape_starea</th>\n",
       "    </tr>\n",
       "  </thead>\n",
       "  <tbody>\n",
       "    <tr>\n",
       "      <th>0</th>\n",
       "      <td>Powered-017d3133-f14a-2b83-ee4f-d777e7c5b619</td>\n",
       "      <td>Bolt</td>\n",
       "      <td>36.121115</td>\n",
       "      <td>-86.814587</td>\n",
       "      <td>POINT (-86.81459 36.12112)</td>\n",
       "      <td>44</td>\n",
       "      <td>37215</td>\n",
       "      <td>38</td>\n",
       "      <td>NASHVILLE</td>\n",
       "      <td>158698.30754566603</td>\n",
       "      <td>424774478.15600586</td>\n",
       "    </tr>\n",
       "    <tr>\n",
       "      <th>4</th>\n",
       "      <td>Powered-0479bb84-afbd-0426-f1c4-df628542a88c</td>\n",
       "      <td>Bolt</td>\n",
       "      <td>36.122782</td>\n",
       "      <td>-86.815677</td>\n",
       "      <td>POINT (-86.81568 36.12278)</td>\n",
       "      <td>44</td>\n",
       "      <td>37215</td>\n",
       "      <td>38</td>\n",
       "      <td>NASHVILLE</td>\n",
       "      <td>158698.30754566603</td>\n",
       "      <td>424774478.15600586</td>\n",
       "    </tr>\n",
       "    <tr>\n",
       "      <th>8</th>\n",
       "      <td>Powered-05fedb39-a00f-a5e0-2219-8c3c7dd1b80e</td>\n",
       "      <td>Bolt</td>\n",
       "      <td>36.120917</td>\n",
       "      <td>-86.814540</td>\n",
       "      <td>POINT (-86.81454 36.12092)</td>\n",
       "      <td>44</td>\n",
       "      <td>37215</td>\n",
       "      <td>38</td>\n",
       "      <td>NASHVILLE</td>\n",
       "      <td>158698.30754566603</td>\n",
       "      <td>424774478.15600586</td>\n",
       "    </tr>\n",
       "    <tr>\n",
       "      <th>11</th>\n",
       "      <td>Powered-09c75f98-6492-9d35-12e4-c5649cebf403</td>\n",
       "      <td>Bolt</td>\n",
       "      <td>36.125102</td>\n",
       "      <td>-86.815059</td>\n",
       "      <td>POINT (-86.81506 36.12510)</td>\n",
       "      <td>44</td>\n",
       "      <td>37215</td>\n",
       "      <td>38</td>\n",
       "      <td>NASHVILLE</td>\n",
       "      <td>158698.30754566603</td>\n",
       "      <td>424774478.15600586</td>\n",
       "    </tr>\n",
       "    <tr>\n",
       "      <th>13</th>\n",
       "      <td>Powered-0ac70fa5-9f26-e69b-ca7a-9803d2aa1535</td>\n",
       "      <td>Bolt</td>\n",
       "      <td>36.123545</td>\n",
       "      <td>-86.814578</td>\n",
       "      <td>POINT (-86.81458 36.12355)</td>\n",
       "      <td>44</td>\n",
       "      <td>37215</td>\n",
       "      <td>38</td>\n",
       "      <td>NASHVILLE</td>\n",
       "      <td>158698.30754566603</td>\n",
       "      <td>424774478.15600586</td>\n",
       "    </tr>\n",
       "  </tbody>\n",
       "</table>\n",
       "</div>"
      ],
      "text/plain": [
       "                                          sumdid company        lat  \\\n",
       "0   Powered-017d3133-f14a-2b83-ee4f-d777e7c5b619    Bolt  36.121115   \n",
       "4   Powered-0479bb84-afbd-0426-f1c4-df628542a88c    Bolt  36.122782   \n",
       "8   Powered-05fedb39-a00f-a5e0-2219-8c3c7dd1b80e    Bolt  36.120917   \n",
       "11  Powered-09c75f98-6492-9d35-12e4-c5649cebf403    Bolt  36.125102   \n",
       "13  Powered-0ac70fa5-9f26-e69b-ca7a-9803d2aa1535    Bolt  36.123545   \n",
       "\n",
       "          lon                    geometry  index_right    zip objectid  \\\n",
       "0  -86.814587  POINT (-86.81459 36.12112)           44  37215       38   \n",
       "4  -86.815677  POINT (-86.81568 36.12278)           44  37215       38   \n",
       "8  -86.814540  POINT (-86.81454 36.12092)           44  37215       38   \n",
       "11 -86.815059  POINT (-86.81506 36.12510)           44  37215       38   \n",
       "13 -86.814578  POINT (-86.81458 36.12355)           44  37215       38   \n",
       "\n",
       "      po_name      shape_stlength        shape_starea  \n",
       "0   NASHVILLE  158698.30754566603  424774478.15600586  \n",
       "4   NASHVILLE  158698.30754566603  424774478.15600586  \n",
       "8   NASHVILLE  158698.30754566603  424774478.15600586  \n",
       "11  NASHVILLE  158698.30754566603  424774478.15600586  \n",
       "13  NASHVILLE  158698.30754566603  424774478.15600586  "
      ]
     },
     "execution_count": 10,
     "metadata": {},
     "output_type": "execute_result"
    }
   ],
   "source": [
    "scooters_by_zip.head() ###testing to make sure things are how I want them."
   ]
  },
  {
   "cell_type": "code",
   "execution_count": 8,
   "id": "138b56ba",
   "metadata": {},
   "outputs": [],
   "source": [
    "scooters_full_table = scooters_by_zip ### renaming to export to csv by requested file name."
   ]
  },
  {
   "cell_type": "code",
   "execution_count": 9,
   "id": "4112ed1b",
   "metadata": {},
   "outputs": [],
   "source": [
    "scooters_full_table.to_csv('scooters_full_table.csv')"
   ]
  },
  {
   "cell_type": "code",
   "execution_count": 10,
   "id": "5febd8e5",
   "metadata": {
    "scrolled": true
   },
   "outputs": [],
   "source": [
    "scooters_valuecount = scooters_full_table['zip'].value_counts()"
   ]
  },
  {
   "cell_type": "code",
   "execution_count": 11,
   "id": "e1113246",
   "metadata": {
    "scrolled": true
   },
   "outputs": [],
   "source": [
    "test_joining = scooters_full_table.groupby('zip')['sumdid'].sum()"
   ]
  },
  {
   "cell_type": "code",
   "execution_count": 12,
   "id": "ac27d06e",
   "metadata": {
    "scrolled": true
   },
   "outputs": [
    {
     "data": {
      "text/plain": [
       "<bound method Series.info of zip\n",
       "37013             Powered7OHBXNSZHZNNAPoweredDJX737TJBYCVY\n",
       "37027    Powered218536Powered2QTOFIQINRR6MPowered342HMP...\n",
       "37064                                         PoweredPR9SN\n",
       "37115                             Powered28NX9PoweredI946K\n",
       "37143             Powered2ZA4GQSKRFQEOPoweredAAFJRQCM2BIJR\n",
       "37201    Powered09437444-bee2-57f0-81d8-a14d49b2da8fPow...\n",
       "37203    Powered-0540c92c-0907-dafa-b19f-011495068ec5Po...\n",
       "37204    Powered-1e5cf2e7-11c5-06d3-9bb4-3497eeaab2bcPo...\n",
       "37205    Powered-046201fb-6532-1f37-6334-3612fb1e61f7Po...\n",
       "37206    Powered009677Powered055493Powered171208Powered...\n",
       "37207                         Powered4969809Powered6499832\n",
       "37208    Powered0b2668e4-8555-5fbe-b2af-c4ddca392628Pow...\n",
       "37209    Powered-0a8e2ca5-5eae-511e-ef0d-74d582fa8ceePo...\n",
       "37210    Powered-ff728c28-5239-68af-ddf3-6d1207b01196Po...\n",
       "37211    Powered00746183-96c8-58d7-97b5-04a091c91b34Pow...\n",
       "37212    Powered-01a24436-0315-e1bb-7ce0-d081d05dff7dPo...\n",
       "37213    Powered367a8b75-5d2a-5612-8525-7adbf2cc7a82Pow...\n",
       "37214                                 PoweredCI6VKIK2KOFMC\n",
       "37215    Powered-017d3133-f14a-2b83-ee4f-d777e7c5b619Po...\n",
       "37216    Powered3adb6842-823a-5a88-9492-15591474623dPow...\n",
       "37217                   Powered6885354PoweredO6KHHBMP74BNT\n",
       "37219    Powered-f9bee790-0731-15a4-0890-7772ceb14397Po...\n",
       "37220    Powered013719Powered097556Powered251145Powered...\n",
       "37221    Powered1cb60024-3ec8-5d8a-9de0-4be2de8f3484Pow...\n",
       "37232    Powered-c3be85dc-6bc5-c8d4-3f1b-2d81f92077f8Po...\n",
       "37240    Powered113806Powered262588Powered3535162Powere...\n",
       "Name: sumdid, dtype: object>"
      ]
     },
     "execution_count": 12,
     "metadata": {},
     "output_type": "execute_result"
    }
   ],
   "source": [
    "test_joining.info"
   ]
  },
  {
   "cell_type": "code",
   "execution_count": 13,
   "id": "cbcecd9a",
   "metadata": {
    "scrolled": true
   },
   "outputs": [
    {
     "name": "stdout",
     "output_type": "stream",
     "text": [
      "       zip company  count\n",
      "0    37013    Lime      2\n",
      "1    37027    Lime     31\n",
      "2    37027    Jump      7\n",
      "3    37027    Bird      6\n",
      "4    37027  Gotcha      2\n",
      "..     ...     ...    ...\n",
      "105  37232    Spin      1\n",
      "106  37240    Bird     13\n",
      "107  37240    Spin      5\n",
      "108  37240    Lyft      4\n",
      "109  37240    Lime      2\n",
      "\n",
      "[110 rows x 3 columns]\n"
     ]
    }
   ],
   "source": [
    "\n",
    "zip_company_counts = scooters_by_zip.groupby('zip')['company'].value_counts().reset_index(name='count')\n",
    "\n",
    "# Printing the resulting table of scooters and their respective companies sorted by zipcode.\n",
    "print(zip_company_counts)\n"
   ]
  },
  {
   "cell_type": "code",
   "execution_count": 14,
   "id": "33fb2854",
   "metadata": {},
   "outputs": [],
   "source": [
    "zip_company_counts.to_csv('zip_company_counts.csv')"
   ]
  }
 ],
 "metadata": {
  "kernelspec": {
   "display_name": "Python 3 (ipykernel)",
   "language": "python",
   "name": "python3"
  },
  "language_info": {
   "codemirror_mode": {
    "name": "ipython",
    "version": 3
   },
   "file_extension": ".py",
   "mimetype": "text/x-python",
   "name": "python",
   "nbconvert_exporter": "python",
   "pygments_lexer": "ipython3",
   "version": "3.10.12"
  }
 },
 "nbformat": 4,
 "nbformat_minor": 5
}
